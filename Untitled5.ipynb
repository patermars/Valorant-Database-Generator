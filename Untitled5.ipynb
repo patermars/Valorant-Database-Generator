{
  "nbformat": 4,
  "nbformat_minor": 0,
  "metadata": {
    "colab": {
      "provenance": []
    },
    "kernelspec": {
      "name": "python3",
      "display_name": "Python 3"
    },
    "language_info": {
      "name": "python"
    }
  },
  "cells": [
    {
      "cell_type": "code",
      "source": [
        "!python /content/train.py"
      ],
      "metadata": {
        "colab": {
          "base_uri": "https://localhost:8080/"
        },
        "id": "JPo0r2G4lpKP",
        "outputId": "b5db5e67-21a4-449b-84d9-92dcc810a795"
      },
      "execution_count": 16,
      "outputs": [
        {
          "output_type": "stream",
          "name": "stdout",
          "text": [
            "🔧 Engineering features...\n",
            "📊 Preparing training data...\n",
            "🤖 Training ensemble model...\n",
            "✅ Performing cross-validation...\n",
            "\n",
            "============================================================\n",
            "📈 MODEL PERFORMANCE RESULTS\n",
            "============================================================\n",
            "Training Accuracy:    0.9167\n",
            "Test Accuracy:        0.5000\n",
            "Cross-Val Accuracy:   0.4100 (+/- 0.1685)\n",
            "ROC-AUC Score:        0.4375\n",
            "\n",
            "📊 Confusion Matrix:\n",
            "[[1 1]\n",
            " [2 2]]\n",
            "\n",
            "📋 Classification Report:\n",
            "              precision    recall  f1-score   support\n",
            "\n",
            "           0       0.33      0.50      0.40         2\n",
            "           1       0.67      0.50      0.57         4\n",
            "\n",
            "    accuracy                           0.50         6\n",
            "   macro avg       0.50      0.50      0.49         6\n",
            "weighted avg       0.56      0.50      0.51         6\n",
            "\n",
            "============================================================\n",
            "\n",
            "✅ Model saved to valorant_model.pkl\n",
            "\n",
            "============================================================\n",
            "🏆 TEAM ELO RANKINGS\n",
            "============================================================\n",
            "                                                                        Team         ELO\n",
            "                                                                      FNATIC 1563.263693\n",
            "                                                                         NRG 1562.595072\n",
            "                                                                   Paper Rex 1547.232902\n",
            "                                                                         DRX 1532.767098\n",
            "                                                               Team Heretics 1514.625863\n",
            "                                                                        MIBR 1501.374137\n",
            "                                                                      GIANTX 1485.404928\n",
            "                                                                  G2 Esports 1484.736307\n",
            "                                                              Rex Regum Qeon 1484.000000\n",
            "                                                                          T1 1484.000000\n",
            "                                                               Xi Lai Gaming 1484.000000\n",
            "                                                                 Team Liquid 1484.000000\n",
            "                                                               EDward Gaming 1468.000000\n",
            "                                                                   Sentinels 1468.000000\n",
            "                                                        Dragon Ranger Gaming 1468.000000\n",
            "Guangzhou Huadu Bilibili Gaming\\t\\t\\t\\t\\t\\t\\n\\t\\t\\t\\t\\t\\t\\t(Bilibili Gaming) 1468.000000\n",
            "============================================================\n",
            "\n"
          ]
        }
      ]
    },
    {
      "cell_type": "code",
      "execution_count": 21,
      "metadata": {
        "colab": {
          "base_uri": "https://localhost:8080/"
        },
        "id": "6r3RPNS5kavL",
        "outputId": "6a3a6b77-8a4e-443d-a185-9b81555f7b1c"
      },
      "outputs": [
        {
          "output_type": "stream",
          "name": "stdout",
          "text": [
            "✅ Model loaded from valorant_model.pkl\n",
            "📊 Model type: ensemble\n",
            "🎯 ELO ratings for 16 teams loaded\n",
            "\n",
            "============================================================\n",
            "🎮 MATCH PREDICTION: FNATIC vs NRG\n",
            "============================================================\n",
            "Format: Bo3\n",
            "\n",
            "🏆 Predicted Winner: NRG\n",
            "\n",
            "📊 Win Probabilities:\n",
            "  FNATIC: 45.0%\n",
            "  NRG: 55.0%\n",
            "\n",
            "💪 Confidence: 55.0% (Low)\n",
            "\n",
            "⭐ ELO Ratings:\n",
            "  FNATIC: 1563\n",
            "  NRG: 1563\n",
            "============================================================\n",
            "\n"
          ]
        }
      ],
      "source": [
        "!python /content/predict_matches.py"
      ]
    },
    {
      "cell_type": "code",
      "source": [
        "# predict_matches.py\n",
        "from valorant_predictor import ValorantMatchPredictor\n",
        "\n",
        "predictor = ValorantMatchPredictor()\n",
        "predictor.load_model('valorant_model.pkl')\n",
        "predictor.predict_match('FNATIC', 'NRG', 0.8, 0.8, 'Bo3')"
      ],
      "metadata": {
        "colab": {
          "base_uri": "https://localhost:8080/"
        },
        "id": "qPx4qrUdl5ia",
        "outputId": "4409e68f-ee31-4ca4-c020-177fe5d38721"
      },
      "execution_count": 22,
      "outputs": [
        {
          "output_type": "stream",
          "name": "stdout",
          "text": [
            "✅ Model loaded from valorant_model.pkl\n",
            "📊 Model type: ensemble\n",
            "🎯 ELO ratings for 16 teams loaded\n",
            "\n",
            "============================================================\n",
            "🎮 MATCH PREDICTION: FNATIC vs NRG\n",
            "============================================================\n",
            "Format: Bo3\n",
            "\n",
            "🏆 Predicted Winner: NRG\n",
            "\n",
            "📊 Win Probabilities:\n",
            "  FNATIC: 45.0%\n",
            "  NRG: 55.0%\n",
            "\n",
            "💪 Confidence: 55.0% (Low)\n",
            "\n",
            "⭐ ELO Ratings:\n",
            "  FNATIC: 1563\n",
            "  NRG: 1563\n",
            "============================================================\n",
            "\n"
          ]
        },
        {
          "output_type": "execute_result",
          "data": {
            "text/plain": [
              "{'winner': 'NRG',\n",
              " 'team1_win_probability': np.float64(0.45001627119717524),\n",
              " 'team2_win_probability': np.float64(0.5499837139016636),\n",
              " 'confidence': np.float64(0.5499837139016636),\n",
              " 'prediction_strength': 'Low',\n",
              " 'team1_elo': 1563.263693206478,\n",
              " 'team2_elo': 1562.5950719527063}"
            ]
          },
          "metadata": {},
          "execution_count": 22
        }
      ]
    },
    {
      "cell_type": "code",
      "source": [
        "from valorant_predictor import ValorantMatchPredictor\n",
        "\n",
        "predictor = ValorantMatchPredictor()\n",
        "predictor.load_model('valorant_model.pkl')\n",
        "\n",
        "# See all teams ranked by ELO\n",
        "predictor.list_teams()\n",
        "\n",
        "# Get specific team ELO\n",
        "paper_rex_elo = predictor.get_team_elo('Paper Rex')\n",
        "print(f\"Paper Rex ELO: {paper_rex_elo}\")"
      ],
      "metadata": {
        "colab": {
          "base_uri": "https://localhost:8080/"
        },
        "id": "f79G5sGJl9bu",
        "outputId": "dcb7b49a-fd9c-4618-9354-de46de99f716"
      },
      "execution_count": 23,
      "outputs": [
        {
          "output_type": "stream",
          "name": "stdout",
          "text": [
            "✅ Model loaded from valorant_model.pkl\n",
            "📊 Model type: ensemble\n",
            "🎯 ELO ratings for 16 teams loaded\n",
            "\n",
            "============================================================\n",
            "🏆 TEAM ELO RANKINGS\n",
            "============================================================\n",
            "                                                                        Team         ELO\n",
            "                                                                      FNATIC 1563.263693\n",
            "                                                                         NRG 1562.595072\n",
            "                                                                   Paper Rex 1547.232902\n",
            "                                                                         DRX 1532.767098\n",
            "                                                               Team Heretics 1514.625863\n",
            "                                                                        MIBR 1501.374137\n",
            "                                                                      GIANTX 1485.404928\n",
            "                                                                  G2 Esports 1484.736307\n",
            "                                                              Rex Regum Qeon 1484.000000\n",
            "                                                                          T1 1484.000000\n",
            "                                                               Xi Lai Gaming 1484.000000\n",
            "                                                                 Team Liquid 1484.000000\n",
            "                                                               EDward Gaming 1468.000000\n",
            "                                                                   Sentinels 1468.000000\n",
            "                                                        Dragon Ranger Gaming 1468.000000\n",
            "Guangzhou Huadu Bilibili Gaming\\t\\t\\t\\t\\t\\t\\n\\t\\t\\t\\t\\t\\t\\t(Bilibili Gaming) 1468.000000\n",
            "============================================================\n",
            "\n",
            "Paper Rex ELO: 1547.2329020978536\n"
          ]
        }
      ]
    }
  ]
}