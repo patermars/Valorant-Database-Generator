{
  "nbformat": 4,
  "nbformat_minor": 0,
  "metadata": {
    "colab": {
      "provenance": []
    },
    "kernelspec": {
      "name": "python3",
      "display_name": "Python 3"
    },
    "language_info": {
      "name": "python"
    }
  },
  "cells": [
    {
      "cell_type": "code",
      "source": [
        "!python /content/train.py"
      ],
      "metadata": {
        "colab": {
          "base_uri": "https://localhost:8080/"
        },
        "id": "JPo0r2G4lpKP",
        "outputId": "0dd82b8f-dec7-4dbf-e74c-356a702569b0"
      },
      "execution_count": 4,
      "outputs": [
        {
          "output_type": "stream",
          "name": "stdout",
          "text": [
            "🔧 Engineering features...\n",
            "📊 Preparing training data...\n",
            "🤖 Training ensemble model...\n",
            "✅ Performing cross-validation...\n",
            "\n",
            "============================================================\n",
            "📈 MODEL PERFORMANCE RESULTS\n",
            "============================================================\n",
            "Training Accuracy:    0.9167\n",
            "Test Accuracy:        0.5000\n",
            "Cross-Val Accuracy:   0.4100 (+/- 0.1685)\n",
            "ROC-AUC Score:        0.4375\n",
            "\n",
            "📊 Confusion Matrix:\n",
            "[[1 1]\n",
            " [2 2]]\n",
            "\n",
            "📋 Classification Report:\n",
            "              precision    recall  f1-score   support\n",
            "\n",
            "           0       0.33      0.50      0.40         2\n",
            "           1       0.67      0.50      0.57         4\n",
            "\n",
            "    accuracy                           0.50         6\n",
            "   macro avg       0.50      0.50      0.49         6\n",
            "weighted avg       0.56      0.50      0.51         6\n",
            "\n",
            "============================================================\n",
            "\n",
            "✅ Model saved to valorant_model.pkl\n",
            "\n",
            "============================================================\n",
            "🏆 TEAM ELO RANKINGS\n",
            "============================================================\n",
            "                                                                        Team         ELO\n",
            "                                                                      FNATIC 1563.263693\n",
            "                                                                         NRG 1562.595072\n",
            "                                                                   Paper Rex 1547.232902\n",
            "                                                                         DRX 1532.767098\n",
            "                                                               Team Heretics 1514.625863\n",
            "                                                                        MIBR 1501.374137\n",
            "                                                                      GIANTX 1485.404928\n",
            "                                                                  G2 Esports 1484.736307\n",
            "                                                              Rex Regum Qeon 1484.000000\n",
            "                                                                          T1 1484.000000\n",
            "                                                               Xi Lai Gaming 1484.000000\n",
            "                                                                 Team Liquid 1484.000000\n",
            "                                                               EDward Gaming 1468.000000\n",
            "                                                                   Sentinels 1468.000000\n",
            "                                                        Dragon Ranger Gaming 1468.000000\n",
            "Guangzhou Huadu Bilibili Gaming\\t\\t\\t\\t\\t\\t\\n\\t\\t\\t\\t\\t\\t\\t(Bilibili Gaming) 1468.000000\n",
            "============================================================\n",
            "\n"
          ]
        }
      ]
    },
    {
      "cell_type": "code",
      "execution_count": 15,
      "metadata": {
        "colab": {
          "base_uri": "https://localhost:8080/"
        },
        "id": "6r3RPNS5kavL",
        "outputId": "d3f4fcff-8392-4c33-8913-031c070b6d62"
      },
      "outputs": [
        {
          "output_type": "stream",
          "name": "stdout",
          "text": [
            "✅ Model loaded from valorant_model.pkl\n",
            "📊 Model type: ensemble\n",
            "🎯 ELO ratings for 16 teams loaded\n",
            "\n",
            "============================================================\n",
            "🎮 MATCH PREDICTION: FNATIC vs NRG\n",
            "============================================================\n",
            "Format: Bo3\n",
            "\n",
            "🏆 Predicted Winner: NRG\n",
            "\n",
            "📊 Win Probabilities:\n",
            "  FNATIC: 45.0%\n",
            "  NRG: 55.0%\n",
            "\n",
            "💪 Confidence: 55.0% (Low)\n",
            "\n",
            "⭐ ELO Ratings:\n",
            "  FNATIC: 1563\n",
            "  NRG: 1563\n",
            "============================================================\n",
            "\n"
          ]
        }
      ],
      "source": [
        "!python /content/predict_matches.py"
      ]
    },
    {
      "cell_type": "code",
      "source": [
        "# predict_matches.py\n",
        "predictor = ValorantMatchPredictor()\n",
        "predictor.load_model('valorant_model.pkl')\n",
        "predictor.predict_match('Team1', 'Team2', 0.8, 0.7, 'Bo3')"
      ],
      "metadata": {
        "colab": {
          "base_uri": "https://localhost:8080/",
          "height": 193
        },
        "id": "qPx4qrUdl5ia",
        "outputId": "37de3381-6e84-4d8b-c31b-2b32452759af"
      },
      "execution_count": 7,
      "outputs": [
        {
          "output_type": "error",
          "ename": "NameError",
          "evalue": "name 'ValorantMatchPredictor' is not defined",
          "traceback": [
            "\u001b[0;31m---------------------------------------------------------------------------\u001b[0m",
            "\u001b[0;31mNameError\u001b[0m                                 Traceback (most recent call last)",
            "\u001b[0;32m/tmp/ipython-input-1132514526.py\u001b[0m in \u001b[0;36m<cell line: 0>\u001b[0;34m()\u001b[0m\n\u001b[1;32m      1\u001b[0m \u001b[0;31m# predict_matches.py\u001b[0m\u001b[0;34m\u001b[0m\u001b[0;34m\u001b[0m\u001b[0m\n\u001b[0;32m----> 2\u001b[0;31m \u001b[0mpredictor\u001b[0m \u001b[0;34m=\u001b[0m \u001b[0mValorantMatchPredictor\u001b[0m\u001b[0;34m(\u001b[0m\u001b[0;34m)\u001b[0m\u001b[0;34m\u001b[0m\u001b[0;34m\u001b[0m\u001b[0m\n\u001b[0m\u001b[1;32m      3\u001b[0m \u001b[0mpredictor\u001b[0m\u001b[0;34m.\u001b[0m\u001b[0mload_model\u001b[0m\u001b[0;34m(\u001b[0m\u001b[0;34m'valorant_model.pkl'\u001b[0m\u001b[0;34m)\u001b[0m\u001b[0;34m\u001b[0m\u001b[0;34m\u001b[0m\u001b[0m\n\u001b[1;32m      4\u001b[0m \u001b[0mpredictor\u001b[0m\u001b[0;34m.\u001b[0m\u001b[0mpredict_match\u001b[0m\u001b[0;34m(\u001b[0m\u001b[0;34m'Team1'\u001b[0m\u001b[0;34m,\u001b[0m \u001b[0;34m'Team2'\u001b[0m\u001b[0;34m,\u001b[0m \u001b[0;36m0.8\u001b[0m\u001b[0;34m,\u001b[0m \u001b[0;36m0.7\u001b[0m\u001b[0;34m,\u001b[0m \u001b[0;34m'Bo3'\u001b[0m\u001b[0;34m)\u001b[0m\u001b[0;34m\u001b[0m\u001b[0;34m\u001b[0m\u001b[0m\n",
            "\u001b[0;31mNameError\u001b[0m: name 'ValorantMatchPredictor' is not defined"
          ]
        }
      ]
    },
    {
      "cell_type": "code",
      "source": [
        "predictor = ValorantMatchPredictor()\n",
        "predictor.load_model('valorant_model.pkl')\n",
        "\n",
        "# See all teams ranked by ELO\n",
        "predictor.list_teams()\n",
        "\n",
        "# Get specific team ELO\n",
        "paper_rex_elo = predictor.get_team_elo('Paper Rex')\n",
        "print(f\"Paper Rex ELO: {paper_rex_elo}\")"
      ],
      "metadata": {
        "id": "f79G5sGJl9bu"
      },
      "execution_count": null,
      "outputs": []
    }
  ]
}